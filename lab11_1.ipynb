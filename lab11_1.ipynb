{
  "cells": [
    {
      "cell_type": "markdown",
      "source": [
        "Instalacja i importowanie niezbędnych bibliotek itp"
      ],
      "metadata": {
        "id": "QgsyOYXESPGV"
      }
    },
    {
      "cell_type": "code",
      "execution_count": 1,
      "metadata": {
        "id": "DZcppc73RfpU",
        "colab": {
          "base_uri": "https://localhost:8080/"
        },
        "outputId": "7acc5331-15ed-408f-97df-7ba2052861b8"
      },
      "outputs": [
        {
          "output_type": "stream",
          "name": "stdout",
          "text": [
            "Requirement already satisfied: torch in /usr/local/lib/python3.7/dist-packages (1.10.0+cu111)\n",
            "Collecting scikit-learn==0.20.*\n",
            "  Downloading scikit_learn-0.20.4-cp37-cp37m-manylinux1_x86_64.whl (5.4 MB)\n",
            "\u001b[K     |████████████████████████████████| 5.4 MB 7.3 MB/s \n",
            "\u001b[?25hCollecting skorch\n",
            "  Downloading skorch-0.11.0-py3-none-any.whl (155 kB)\n",
            "\u001b[K     |████████████████████████████████| 155 kB 77.0 MB/s \n",
            "\u001b[?25hRequirement already satisfied: scipy>=0.13.3 in /usr/local/lib/python3.7/dist-packages (from scikit-learn==0.20.*) (1.4.1)\n",
            "Requirement already satisfied: numpy>=1.8.2 in /usr/local/lib/python3.7/dist-packages (from scikit-learn==0.20.*) (1.19.5)\n",
            "Requirement already satisfied: typing-extensions in /usr/local/lib/python3.7/dist-packages (from torch) (3.10.0.2)\n",
            "Requirement already satisfied: tqdm>=4.14.0 in /usr/local/lib/python3.7/dist-packages (from skorch) (4.62.3)\n",
            "Requirement already satisfied: tabulate>=0.7.7 in /usr/local/lib/python3.7/dist-packages (from skorch) (0.8.9)\n",
            "Installing collected packages: scikit-learn, skorch\n",
            "  Attempting uninstall: scikit-learn\n",
            "    Found existing installation: scikit-learn 1.0.2\n",
            "    Uninstalling scikit-learn-1.0.2:\n",
            "      Successfully uninstalled scikit-learn-1.0.2\n",
            "\u001b[31mERROR: pip's dependency resolver does not currently take into account all the packages that are installed. This behaviour is the source of the following dependency conflicts.\n",
            "imbalanced-learn 0.8.1 requires scikit-learn>=0.24, but you have scikit-learn 0.20.4 which is incompatible.\u001b[0m\n",
            "Successfully installed scikit-learn-0.20.4 skorch-0.11.0\n"
          ]
        }
      ],
      "source": [
        "! [ ! -z \"$COLAB_GPU\" ] && pip install torch scikit-learn==0.20.* skorch"
      ]
    },
    {
      "cell_type": "code",
      "execution_count": 2,
      "metadata": {
        "id": "9RFww5osRfpV"
      },
      "outputs": [],
      "source": [
        "from sklearn.datasets import fetch_openml\n",
        "from sklearn.model_selection import train_test_split\n",
        "import numpy as np\n",
        "import matplotlib.pyplot as plt"
      ]
    },
    {
      "cell_type": "code",
      "execution_count": 3,
      "metadata": {
        "id": "Hz5CyNF3RfpW"
      },
      "outputs": [],
      "source": [
        "mnist = fetch_openml('mnist_784', cache=False)"
      ]
    },
    {
      "cell_type": "code",
      "execution_count": 4,
      "metadata": {
        "id": "_9lr1NOxRfpW",
        "outputId": "b2a5f309-7cad-4690-9d7e-41a15f750586",
        "colab": {
          "base_uri": "https://localhost:8080/"
        }
      },
      "outputs": [
        {
          "output_type": "execute_result",
          "data": {
            "text/plain": [
              "(70000, 784)"
            ]
          },
          "metadata": {},
          "execution_count": 4
        }
      ],
      "source": [
        "mnist.data.shape"
      ]
    },
    {
      "cell_type": "code",
      "execution_count": 5,
      "metadata": {
        "id": "h39AN0LLRfpZ"
      },
      "outputs": [],
      "source": [
        "X = mnist.data.astype('float32')\n",
        "y = mnist.target.astype('int64')"
      ]
    },
    {
      "cell_type": "code",
      "execution_count": 6,
      "metadata": {
        "id": "rHqGdf0xRfpa"
      },
      "outputs": [],
      "source": [
        "X /= 255.0"
      ]
    },
    {
      "cell_type": "code",
      "execution_count": 7,
      "metadata": {
        "id": "3akc3PqGRfpa",
        "outputId": "d9d0b809-95de-40c1-ee11-26e227cb463a",
        "colab": {
          "base_uri": "https://localhost:8080/"
        }
      },
      "outputs": [
        {
          "output_type": "execute_result",
          "data": {
            "text/plain": [
              "(0.0, 1.0)"
            ]
          },
          "metadata": {},
          "execution_count": 7
        }
      ],
      "source": [
        "X.min(), X.max()"
      ]
    },
    {
      "cell_type": "code",
      "execution_count": 8,
      "metadata": {
        "id": "rHZoix8iRfpb"
      },
      "outputs": [],
      "source": [
        "X_train, X_test, y_train, y_test = train_test_split(X, y, test_size=0.25, random_state=42)"
      ]
    },
    {
      "cell_type": "code",
      "execution_count": 9,
      "metadata": {
        "id": "IQN0kqvpRfpb"
      },
      "outputs": [],
      "source": [
        "assert(X_train.shape[0] + X_test.shape[0] == mnist.data.shape[0])"
      ]
    },
    {
      "cell_type": "code",
      "execution_count": 10,
      "metadata": {
        "id": "HSshlwycRfpb",
        "outputId": "7931a316-4346-4ebd-a2ba-dc55a78cd6e9",
        "colab": {
          "base_uri": "https://localhost:8080/"
        }
      },
      "outputs": [
        {
          "output_type": "execute_result",
          "data": {
            "text/plain": [
              "((52500, 784), (52500,))"
            ]
          },
          "metadata": {},
          "execution_count": 10
        }
      ],
      "source": [
        "X_train.shape, y_train.shape"
      ]
    },
    {
      "cell_type": "markdown",
      "metadata": {
        "id": "GjgSkHO3Rfpc"
      },
      "source": [
        "Wyświetlenie wybranych obrazów treningowych"
      ]
    },
    {
      "cell_type": "code",
      "execution_count": 11,
      "metadata": {
        "id": "EnrynZXcRfpc"
      },
      "outputs": [],
      "source": [
        "def plot_example(X, y):\n",
        "    \"\"\"Plot the first 5 images and their labels in a row.\"\"\"\n",
        "    for i, (img, y) in enumerate(zip(X[:5].reshape(5, 28, 28), y[:5])):\n",
        "        plt.subplot(151 + i)\n",
        "        plt.imshow(img)\n",
        "        plt.xticks([])\n",
        "        plt.yticks([])\n",
        "        plt.title(y)"
      ]
    },
    {
      "cell_type": "code",
      "execution_count": 12,
      "metadata": {
        "id": "qKa_OK2uRfpd",
        "outputId": "37bfe2e4-4398-4eee-846c-6be4fd58d339",
        "colab": {
          "base_uri": "https://localhost:8080/",
          "height": 108
        }
      },
      "outputs": [
        {
          "output_type": "display_data",
          "data": {
            "image/png": "[encoded data removed]",
            "text/plain": [
              "<Figure size 432x288 with 5 Axes>"
            ]
          },
          "metadata": {}
        }
      ],
      "source": [
        "plot_example(X_train, y_train)"
      ]
    },
    {
      "cell_type": "markdown",
      "metadata": {
        "id": "WYFxpl8FRfpd"
      },
      "source": [
        "budwa sieci neuronowej na za pomocą pyTorch"
      ]
    },
    {
      "cell_type": "code",
      "execution_count": 13,
      "metadata": {
        "id": "Ei1PUVC-Rfpd"
      },
      "outputs": [],
      "source": [
        "import torch\n",
        "from torch import nn\n",
        "import torch.nn.functional as F"
      ]
    },
    {
      "cell_type": "code",
      "execution_count": 14,
      "metadata": {
        "id": "5vG72nVuRfpd"
      },
      "outputs": [],
      "source": [
        "device = 'cuda' if torch.cuda.is_available() else 'cpu'"
      ]
    },
    {
      "cell_type": "code",
      "execution_count": 15,
      "metadata": {
        "id": "cJhUDgIRRfpe"
      },
      "outputs": [],
      "source": [
        "mnist_dim = X.shape[1]\n",
        "hidden_dim = int(mnist_dim/8)\n",
        "output_dim = len(np.unique(mnist.target))"
      ]
    },
    {
      "cell_type": "code",
      "execution_count": 16,
      "metadata": {
        "id": "s4IxFTtBRfpe",
        "outputId": "5ac1f6d0-538f-4412-b579-1bd0b9841d1e",
        "colab": {
          "base_uri": "https://localhost:8080/"
        }
      },
      "outputs": [
        {
          "output_type": "execute_result",
          "data": {
            "text/plain": [
              "(784, 98, 10)"
            ]
          },
          "metadata": {},
          "execution_count": 16
        }
      ],
      "source": [
        "mnist_dim, hidden_dim, output_dim"
      ]
    },
    {
      "cell_type": "code",
      "execution_count": 17,
      "metadata": {
        "id": "kT2xQ3LBRfpe"
      },
      "outputs": [],
      "source": [
        "class ClassifierModule(nn.Module):\n",
        "    def __init__(\n",
        "            self,\n",
        "            input_dim=mnist_dim,\n",
        "            hidden_dim=hidden_dim,\n",
        "            output_dim=output_dim,\n",
        "            dropout=0.5,\n",
        "    ):\n",
        "        super(ClassifierModule, self).__init__()\n",
        "        self.dropout = nn.Dropout(dropout)\n",
        "\n",
        "        self.hidden = nn.Linear(input_dim, hidden_dim)\n",
        "        self.output = nn.Linear(hidden_dim, output_dim)\n",
        "\n",
        "    def forward(self, X, **kwargs):\n",
        "        X = F.relu(self.hidden(X))\n",
        "        X = self.dropout(X)\n",
        "        X = F.softmax(self.output(X), dim=-1)\n",
        "        return X"
      ]
    },
    {
      "cell_type": "markdown",
      "metadata": {
        "id": "vCJqJTwCRfpf"
      },
      "source": [
        "importowanie modułu z skorch"
      ]
    },
    {
      "cell_type": "code",
      "execution_count": 18,
      "metadata": {
        "id": "b0nzU5-SRfpf"
      },
      "outputs": [],
      "source": [
        "from skorch import NeuralNetClassifier"
      ]
    },
    {
      "cell_type": "code",
      "execution_count": 19,
      "metadata": {
        "id": "Lk022rRfRfpf"
      },
      "outputs": [],
      "source": [
        "torch.manual_seed(0)\n",
        "\n",
        "net = NeuralNetClassifier(\n",
        "    ClassifierModule,\n",
        "    max_epochs=20,\n",
        "    lr=0.1,\n",
        "    device=device,\n",
        ")"
      ]
    },
    {
      "cell_type": "code",
      "execution_count": 20,
      "metadata": {
        "id": "5GD9G9x4Rfpf",
        "outputId": "e8821228-8d56-4502-fd77-999be40ea334",
        "colab": {
          "base_uri": "https://localhost:8080/"
        }
      },
      "outputs": [
        {
          "output_type": "stream",
          "name": "stdout",
          "text": [
            "  epoch    train_loss    valid_acc    valid_loss     dur\n",
            "-------  ------------  -----------  ------------  ------\n",
            "      1        \u001b[36m0.8352\u001b[0m       \u001b[32m0.8786\u001b[0m        \u001b[35m0.4214\u001b[0m  1.2505\n",
            "      2        \u001b[36m0.4340\u001b[0m       \u001b[32m0.9115\u001b[0m        \u001b[35m0.3170\u001b[0m  0.9120\n",
            "      3        \u001b[36m0.3625\u001b[0m       \u001b[32m0.9208\u001b[0m        \u001b[35m0.2769\u001b[0m  0.8846\n",
            "      4        \u001b[36m0.3235\u001b[0m       \u001b[32m0.9287\u001b[0m        \u001b[35m0.2388\u001b[0m  0.8905\n",
            "      5        \u001b[36m0.2925\u001b[0m       \u001b[32m0.9343\u001b[0m        \u001b[35m0.2181\u001b[0m  0.9001\n",
            "      6        \u001b[36m0.2722\u001b[0m       \u001b[32m0.9421\u001b[0m        \u001b[35m0.1959\u001b[0m  0.8871\n",
            "      7        \u001b[36m0.2546\u001b[0m       \u001b[32m0.9441\u001b[0m        \u001b[35m0.1888\u001b[0m  0.8954\n",
            "      8        \u001b[36m0.2439\u001b[0m       \u001b[32m0.9473\u001b[0m        \u001b[35m0.1766\u001b[0m  0.8857\n",
            "      9        \u001b[36m0.2303\u001b[0m       \u001b[32m0.9515\u001b[0m        \u001b[35m0.1646\u001b[0m  0.9134\n",
            "     10        \u001b[36m0.2237\u001b[0m       \u001b[32m0.9545\u001b[0m        \u001b[35m0.1562\u001b[0m  0.8900\n",
            "     11        \u001b[36m0.2162\u001b[0m       0.9545        \u001b[35m0.1510\u001b[0m  0.8917\n",
            "     12        \u001b[36m0.2070\u001b[0m       \u001b[32m0.9550\u001b[0m        \u001b[35m0.1481\u001b[0m  0.9086\n",
            "     13        \u001b[36m0.2020\u001b[0m       \u001b[32m0.9576\u001b[0m        \u001b[35m0.1422\u001b[0m  0.8847\n",
            "     14        \u001b[36m0.1960\u001b[0m       0.9574        \u001b[35m0.1410\u001b[0m  0.9174\n",
            "     15        \u001b[36m0.1898\u001b[0m       \u001b[32m0.9582\u001b[0m        \u001b[35m0.1375\u001b[0m  0.9205\n",
            "     16        \u001b[36m0.1854\u001b[0m       \u001b[32m0.9585\u001b[0m        0.1379  0.8694\n",
            "     17        \u001b[36m0.1804\u001b[0m       \u001b[32m0.9611\u001b[0m        \u001b[35m0.1307\u001b[0m  0.8738\n",
            "     18        \u001b[36m0.1796\u001b[0m       \u001b[32m0.9619\u001b[0m        \u001b[35m0.1286\u001b[0m  0.8669\n",
            "     19        \u001b[36m0.1749\u001b[0m       \u001b[32m0.9622\u001b[0m        \u001b[35m0.1242\u001b[0m  0.8578\n",
            "     20        \u001b[36m0.1702\u001b[0m       \u001b[32m0.9632\u001b[0m        \u001b[35m0.1214\u001b[0m  0.8511\n"
          ]
        }
      ],
      "source": [
        "net.fit(X_train, y_train);"
      ]
    },
    {
      "cell_type": "markdown",
      "metadata": {
        "id": "JkT1OsVoRfpf"
      },
      "source": [
        ""
      ]
    },
    {
      "cell_type": "code",
      "execution_count": 21,
      "metadata": {
        "id": "XHU57OLBRfpf"
      },
      "outputs": [],
      "source": [
        "from sklearn.metrics import accuracy_score"
      ]
    },
    {
      "cell_type": "markdown",
      "metadata": {
        "id": "eCAmZWLVRfph"
      },
      "source": [
        "ustawienie danych i wywołanie sieci do rozpoznania wybranych obrazów oraz pokazanie % skuteczności w rozpoznawaniu"
      ]
    },
    {
      "cell_type": "code",
      "execution_count": 26,
      "metadata": {
        "id": "aEJDI_JXRfph"
      },
      "outputs": [],
      "source": [
        "XCnn = X.reshape(-1, 1, 28, 28)"
      ]
    },
    {
      "cell_type": "code",
      "execution_count": 27,
      "metadata": {
        "id": "arzMPQgpRfph",
        "outputId": "6e9f3666-08f3-40ec-f339-2e12290499f4",
        "colab": {
          "base_uri": "https://localhost:8080/"
        }
      },
      "outputs": [
        {
          "output_type": "execute_result",
          "data": {
            "text/plain": [
              "(70000, 1, 28, 28)"
            ]
          },
          "metadata": {},
          "execution_count": 27
        }
      ],
      "source": [
        "XCnn.shape"
      ]
    },
    {
      "cell_type": "code",
      "execution_count": 28,
      "metadata": {
        "id": "ZaXhYTc5Rfph"
      },
      "outputs": [],
      "source": [
        "XCnn_train, XCnn_test, y_train, y_test = train_test_split(XCnn, y, test_size=0.25, random_state=42)"
      ]
    },
    {
      "cell_type": "code",
      "execution_count": 29,
      "metadata": {
        "id": "37FZz01uRfph",
        "outputId": "c982f808-d71f-4918-e93e-3c294f0d8bb4",
        "colab": {
          "base_uri": "https://localhost:8080/"
        }
      },
      "outputs": [
        {
          "output_type": "execute_result",
          "data": {
            "text/plain": [
              "((52500, 1, 28, 28), (52500,))"
            ]
          },
          "metadata": {},
          "execution_count": 29
        }
      ],
      "source": [
        "XCnn_train.shape, y_train.shape"
      ]
    },
    {
      "cell_type": "code",
      "execution_count": 30,
      "metadata": {
        "id": "Hq-RevosRfpi"
      },
      "outputs": [],
      "source": [
        "class Cnn(nn.Module):\n",
        "    def __init__(self, dropout=0.5):\n",
        "        super(Cnn, self).__init__()\n",
        "        self.conv1 = nn.Conv2d(1, 32, kernel_size=3)\n",
        "        self.conv2 = nn.Conv2d(32, 64, kernel_size=3)\n",
        "        self.conv2_drop = nn.Dropout2d(p=dropout)\n",
        "        self.fc1 = nn.Linear(1600, 100) # 1600 = number channels * width * height\n",
        "        self.fc2 = nn.Linear(100, 10)\n",
        "        self.fc1_drop = nn.Dropout(p=dropout)\n",
        "\n",
        "    def forward(self, x):\n",
        "        x = torch.relu(F.max_pool2d(self.conv1(x), 2))\n",
        "        x = torch.relu(F.max_pool2d(self.conv2_drop(self.conv2(x)), 2))\n",
        "        \n",
        "        # flatten over channel, height and width = 1600\n",
        "        x = x.view(-1, x.size(1) * x.size(2) * x.size(3))\n",
        "        \n",
        "        x = torch.relu(self.fc1_drop(self.fc1(x)))\n",
        "        x = torch.softmax(self.fc2(x), dim=-1)\n",
        "        return x"
      ]
    },
    {
      "cell_type": "code",
      "execution_count": 31,
      "metadata": {
        "id": "7UWpkDCURfpi"
      },
      "outputs": [],
      "source": [
        "torch.manual_seed(0)\n",
        "\n",
        "cnn = NeuralNetClassifier(\n",
        "    Cnn,\n",
        "    max_epochs=10,\n",
        "    lr=0.002,\n",
        "    optimizer=torch.optim.Adam,\n",
        "    device=device,\n",
        ")"
      ]
    },
    {
      "cell_type": "code",
      "execution_count": 32,
      "metadata": {
        "id": "f--KdVVPRfpi",
        "outputId": "515481f3-fd7e-4f53-c5e6-668494d5a04b",
        "colab": {
          "base_uri": "https://localhost:8080/"
        }
      },
      "outputs": [
        {
          "output_type": "stream",
          "name": "stdout",
          "text": [
            "  epoch    train_loss    valid_acc    valid_loss     dur\n",
            "-------  ------------  -----------  ------------  ------\n",
            "      1        \u001b[36m0.4152\u001b[0m       \u001b[32m0.9729\u001b[0m        \u001b[35m0.0880\u001b[0m  2.0790\n",
            "      2        \u001b[36m0.1562\u001b[0m       \u001b[32m0.9804\u001b[0m        \u001b[35m0.0630\u001b[0m  1.7828\n",
            "      3        \u001b[36m0.1276\u001b[0m       \u001b[32m0.9832\u001b[0m        \u001b[35m0.0543\u001b[0m  1.7602\n",
            "      4        \u001b[36m0.1148\u001b[0m       \u001b[32m0.9837\u001b[0m        \u001b[35m0.0501\u001b[0m  1.7709\n",
            "      5        \u001b[36m0.0978\u001b[0m       \u001b[32m0.9858\u001b[0m        \u001b[35m0.0476\u001b[0m  1.7599\n",
            "      6        \u001b[36m0.0893\u001b[0m       \u001b[32m0.9868\u001b[0m        \u001b[35m0.0460\u001b[0m  1.7601\n",
            "      7        \u001b[36m0.0840\u001b[0m       \u001b[32m0.9875\u001b[0m        \u001b[35m0.0417\u001b[0m  1.7753\n",
            "      8        \u001b[36m0.0835\u001b[0m       \u001b[32m0.9885\u001b[0m        \u001b[35m0.0381\u001b[0m  1.7856\n",
            "      9        \u001b[36m0.0765\u001b[0m       \u001b[32m0.9892\u001b[0m        \u001b[35m0.0368\u001b[0m  1.7622\n",
            "     10        \u001b[36m0.0748\u001b[0m       0.9871        0.0415  1.7708\n"
          ]
        }
      ],
      "source": [
        "cnn.fit(XCnn_train, y_train);"
      ]
    },
    {
      "cell_type": "code",
      "execution_count": 33,
      "metadata": {
        "id": "LR_EEmfQRfpi"
      },
      "outputs": [],
      "source": [
        "y_pred_cnn = cnn.predict(XCnn_test)"
      ]
    },
    {
      "cell_type": "code",
      "execution_count": 34,
      "metadata": {
        "id": "CWWedubgRfpi",
        "outputId": "ae13cd2a-786a-4b3c-f2a4-a473ca4dc853",
        "colab": {
          "base_uri": "https://localhost:8080/"
        }
      },
      "outputs": [
        {
          "output_type": "execute_result",
          "data": {
            "text/plain": [
              "0.9874285714285714"
            ]
          },
          "metadata": {},
          "execution_count": 34
        }
      ],
      "source": [
        "accuracy_score(y_test, y_pred_cnn)"
      ]
    },
    {
      "cell_type": "code",
      "execution_count": 35,
      "metadata": {
        "id": "OSKhjRloRfpi",
        "outputId": "8add7292-ccbd-4130-8615-6cc566820891",
        "colab": {
          "base_uri": "https://localhost:8080/"
        }
      },
      "outputs": [
        {
          "output_type": "execute_result",
          "data": {
            "text/plain": [
              "0.7556904400606981"
            ]
          },
          "metadata": {},
          "execution_count": 35
        }
      ],
      "source": [
        "accuracy_score(y_test[error_mask], y_pred_cnn[error_mask])"
      ]
    },
    {
      "cell_type": "markdown",
      "source": [
        "wyświetlenie wyników"
      ],
      "metadata": {
        "id": "yvhaEowRUL2M"
      }
    },
    {
      "cell_type": "code",
      "execution_count": 36,
      "metadata": {
        "id": "Q69yMmK6Rfpj",
        "outputId": "51e74b62-43c6-4d4a-cb10-74ef0616111a",
        "colab": {
          "base_uri": "https://localhost:8080/",
          "height": 108
        }
      },
      "outputs": [
        {
          "output_type": "display_data",
          "data": {
            "image/png": "[encoded data removed]",
            "text/plain": [
              "<Figure size 432x288 with 5 Axes>"
            ]
          },
          "metadata": {}
        }
      ],
      "source": [
        "plot_example(X_test[error_mask], y_pred_cnn[error_mask])"
      ]
    }
  ],
  "metadata": {
    "kernelspec": {
      "display_name": "Python 3",
      "language": "python",
      "name": "python3"
    },
    "language_info": {
      "codemirror_mode": {
        "name": "ipython",
        "version": 3
      },
      "file_extension": ".py",
      "mimetype": "text/x-python",
      "name": "python",
      "nbconvert_exporter": "python",
      "pygments_lexer": "ipython3",
      "version": "3.6.8"
    },
    "colab": {
      "name": "lab11_1.ipynb",
      "provenance": [],
      "collapsed_sections": []
    },
    "accelerator": "GPU"
  },
  "nbformat": 4,
  "nbformat_minor": 0
}